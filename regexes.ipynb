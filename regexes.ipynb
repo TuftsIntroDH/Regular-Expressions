{
 "cells": [
  {
   "cell_type": "markdown",
   "metadata": {},
   "source": [
    "# Regular Expressions\n",
    "\n",
    "Like a good espresso, regular expressions require care and precision to avoid either a watery mess or bitter sludge.\n",
    "\n",
    "We will not have time to cover everything about **regexes** here, but this introduction should help you feel comfortable poking around and using them in your own code."
   ]
  },
  {
   "cell_type": "code",
   "execution_count": 2,
   "metadata": {},
   "outputs": [],
   "source": [
    "sample_text = \"\"\"\n",
    "“Ye kings and warriors! may your vows be crown’d,\n",
    "And Troy’s proud walls lie level with the ground.\n",
    "May Jove restore you when your toils are o’er\n",
    "Safe to the pleasures of your native shore.\n",
    "But, oh! relieve a wretched parent’s pain,\n",
    "And give Chryseïs to these arms again;\n",
    "If mercy fail, yet let my presents move,\n",
    "And dread avenging Phœbus, son of Jove.”\n",
    "\"\"\""
   ]
  },
  {
   "cell_type": "code",
   "execution_count": 3,
   "metadata": {},
   "outputs": [
    {
     "data": {
      "text/plain": [
       "[['Ye', 'kings', 'and', 'warriors', 'may', 'your', 'vows', 'be', 'crown’d'],\n",
       " ['And', 'Troy’s', 'proud', 'walls', 'lie', 'level', 'with', 'the', 'ground'],\n",
       " ['May', 'Jove', 'restore', 'you', 'when', 'your', 'toils', 'are', 'o’er'],\n",
       " ['Safe', 'to', 'the', 'pleasures', 'of', 'your', 'native', 'shore'],\n",
       " ['But', 'oh', 'relieve', 'a', 'wretched', 'parent’s', 'pain'],\n",
       " ['And', 'give', 'Chryseïs', 'to', 'these', 'arms', 'again'],\n",
       " ['If', 'mercy', 'fail', 'yet', 'let', 'my', 'presents', 'move'],\n",
       " ['And', 'dread', 'avenging', 'Phœbus', 'son', 'of', 'Jove']]"
      ]
     },
     "execution_count": 3,
     "metadata": {},
     "output_type": "execute_result"
    }
   ],
   "source": [
    "import re\n",
    "\n",
    "word_regex = re.compile(r\"[\\s\\.,!;”“]+\")\n",
    "\n",
    "lines = [[w for w in word_regex.split(l) if w != \"\"] for l in sample_text.strip().splitlines()]\n",
    "lines"
   ]
  },
  {
   "cell_type": "code",
   "execution_count": 4,
   "metadata": {},
   "outputs": [
    {
     "data": {
      "text/plain": [
       "1"
      ]
     },
     "execution_count": 4,
     "metadata": {},
     "output_type": "execute_result"
    }
   ],
   "source": [
    "n_ground = 0\n",
    "for line in lines:\n",
    "    for word in line:\n",
    "        if word == \"ground\":\n",
    "            n_ground += 1\n",
    "\n",
    "n_ground"
   ]
  },
  {
   "cell_type": "markdown",
   "metadata": {},
   "source": [
    "## Homework\n",
    "\n",
    "Using the code above as a guide, get the counts for _every_ word in `sample_text`."
   ]
  },
  {
   "cell_type": "code",
   "execution_count": 6,
   "metadata": {},
   "outputs": [
    {
     "data": {
      "text/plain": [
       "1"
      ]
     },
     "execution_count": 6,
     "metadata": {},
     "output_type": "execute_result"
    }
   ],
   "source": [
    "n_ye = 0\n",
    "for line in lines:\n",
    "    for word in line:\n",
    "        if word == \"Ye\":\n",
    "            n_ye += 1\n",
    "\n",
    "n_ye"
   ]
  },
  {
   "cell_type": "code",
   "execution_count": 7,
   "metadata": {},
   "outputs": [
    {
     "data": {
      "text/plain": [
       "1"
      ]
     },
     "execution_count": 7,
     "metadata": {},
     "output_type": "execute_result"
    }
   ],
   "source": [
    "n_kings = 0\n",
    "for line in lines:\n",
    "    for word in line:\n",
    "        if word == \"kings\":\n",
    "            n_kings += 1\n",
    "\n",
    "n_kings"
   ]
  },
  {
   "cell_type": "code",
   "execution_count": 11,
   "metadata": {},
   "outputs": [
    {
     "data": {
      "text/plain": [
       "4"
      ]
     },
     "execution_count": 11,
     "metadata": {},
     "output_type": "execute_result"
    }
   ],
   "source": [
    "n_and = 0\n",
    "for line in lines:\n",
    "    for word in line:\n",
    "        if word == \"and\":\n",
    "            n_and += 1\n",
    "        if word == \"And\":\n",
    "            n_and += 1\n",
    "\n",
    "n_and"
   ]
  },
  {
   "cell_type": "code",
   "execution_count": 12,
   "metadata": {},
   "outputs": [
    {
     "data": {
      "text/plain": [
       "1"
      ]
     },
     "execution_count": 12,
     "metadata": {},
     "output_type": "execute_result"
    }
   ],
   "source": [
    "n_warriors = 0\n",
    "for line in lines:\n",
    "    for word in line:\n",
    "        if word == \"warriors\":\n",
    "            n_warriors += 1\n",
    "\n",
    "n_warriors"
   ]
  },
  {
   "cell_type": "code",
   "execution_count": 13,
   "metadata": {},
   "outputs": [
    {
     "data": {
      "text/plain": [
       "2"
      ]
     },
     "execution_count": 13,
     "metadata": {},
     "output_type": "execute_result"
    }
   ],
   "source": [
    "n_may = 0\n",
    "for line in lines:\n",
    "    for word in line:\n",
    "        if word == \"may\":\n",
    "            n_may += 1\n",
    "        if word == \"May\":\n",
    "            n_may += 1\n",
    "\n",
    "n_may"
   ]
  },
  {
   "cell_type": "code",
   "execution_count": 14,
   "metadata": {},
   "outputs": [
    {
     "data": {
      "text/plain": [
       "3"
      ]
     },
     "execution_count": 14,
     "metadata": {},
     "output_type": "execute_result"
    }
   ],
   "source": [
    "n_your = 0\n",
    "for line in lines:\n",
    "    for word in line:\n",
    "        if word == \"your\":\n",
    "            n_your += 1\n",
    "\n",
    "n_your"
   ]
  },
  {
   "cell_type": "code",
   "execution_count": 16,
   "metadata": {},
   "outputs": [
    {
     "data": {
      "text/plain": [
       "1"
      ]
     },
     "execution_count": 16,
     "metadata": {},
     "output_type": "execute_result"
    }
   ],
   "source": [
    "n_vows = 0\n",
    "for line in lines:\n",
    "    for word in line:\n",
    "        if word == \"vows\":\n",
    "            n_vows += 1\n",
    "\n",
    "n_vows"
   ]
  },
  {
   "cell_type": "code",
   "execution_count": 17,
   "metadata": {},
   "outputs": [
    {
     "data": {
      "text/plain": [
       "1"
      ]
     },
     "execution_count": 17,
     "metadata": {},
     "output_type": "execute_result"
    }
   ],
   "source": [
    "n_be = 0\n",
    "for line in lines:\n",
    "    for word in line:\n",
    "        if word == \"be\":\n",
    "            n_be += 1\n",
    "\n",
    "n_be"
   ]
  },
  {
   "cell_type": "code",
   "execution_count": 22,
   "metadata": {},
   "outputs": [
    {
     "data": {
      "text/plain": [
       "1"
      ]
     },
     "execution_count": 22,
     "metadata": {},
     "output_type": "execute_result"
    }
   ],
   "source": [
    "n_crownd = 0\n",
    "for line in lines:\n",
    "    for word in line:\n",
    "        if word == \"crown’d\":\n",
    "            n_crownd += 1\n",
    "\n",
    "n_crownd"
   ]
  },
  {
   "cell_type": "code",
   "execution_count": 23,
   "metadata": {},
   "outputs": [
    {
     "data": {
      "text/plain": [
       "1"
      ]
     },
     "execution_count": 23,
     "metadata": {},
     "output_type": "execute_result"
    }
   ],
   "source": [
    "n_troys = 0\n",
    "for line in lines:\n",
    "    for word in line:\n",
    "        if word == \"Troy’s\":\n",
    "            n_troys += 1\n",
    "\n",
    "n_troys"
   ]
  },
  {
   "cell_type": "code",
   "execution_count": 24,
   "metadata": {},
   "outputs": [
    {
     "data": {
      "text/plain": [
       "1"
      ]
     },
     "execution_count": 24,
     "metadata": {},
     "output_type": "execute_result"
    }
   ],
   "source": [
    "n_proud = 0\n",
    "for line in lines:\n",
    "    for word in line:\n",
    "        if word == \"proud\":\n",
    "            n_proud += 1\n",
    "\n",
    "n_proud"
   ]
  },
  {
   "cell_type": "code",
   "execution_count": 26,
   "metadata": {},
   "outputs": [
    {
     "data": {
      "text/plain": [
       "1"
      ]
     },
     "execution_count": 26,
     "metadata": {},
     "output_type": "execute_result"
    }
   ],
   "source": [
    "n_walls = 0\n",
    "for line in lines:\n",
    "    for word in line:\n",
    "        if word == \"walls\":\n",
    "            n_walls += 1\n",
    "\n",
    "n_walls"
   ]
  },
  {
   "cell_type": "code",
   "execution_count": 27,
   "metadata": {},
   "outputs": [
    {
     "data": {
      "text/plain": [
       "1"
      ]
     },
     "execution_count": 27,
     "metadata": {},
     "output_type": "execute_result"
    }
   ],
   "source": [
    "n_lie = 0\n",
    "for line in lines:\n",
    "    for word in line:\n",
    "        if word == \"lie\":\n",
    "            n_lie += 1\n",
    "\n",
    "n_lie"
   ]
  },
  {
   "cell_type": "code",
   "execution_count": 28,
   "metadata": {},
   "outputs": [
    {
     "data": {
      "text/plain": [
       "1"
      ]
     },
     "execution_count": 28,
     "metadata": {},
     "output_type": "execute_result"
    }
   ],
   "source": [
    "n_level = 0\n",
    "for line in lines:\n",
    "    for word in line:\n",
    "        if word == \"level\":\n",
    "            n_level += 1\n",
    "\n",
    "n_level"
   ]
  },
  {
   "cell_type": "code",
   "execution_count": 29,
   "metadata": {},
   "outputs": [
    {
     "data": {
      "text/plain": [
       "1"
      ]
     },
     "execution_count": 29,
     "metadata": {},
     "output_type": "execute_result"
    }
   ],
   "source": [
    "n_with = 0\n",
    "for line in lines:\n",
    "    for word in line:\n",
    "        if word == \"with\":\n",
    "            n_with += 1\n",
    "\n",
    "n_with"
   ]
  },
  {
   "cell_type": "code",
   "execution_count": 30,
   "metadata": {},
   "outputs": [
    {
     "data": {
      "text/plain": [
       "2"
      ]
     },
     "execution_count": 30,
     "metadata": {},
     "output_type": "execute_result"
    }
   ],
   "source": [
    "n_the = 0\n",
    "for line in lines:\n",
    "    for word in line:\n",
    "        if word == \"the\":\n",
    "            n_the += 1\n",
    "\n",
    "n_the"
   ]
  },
  {
   "cell_type": "code",
   "execution_count": 31,
   "metadata": {},
   "outputs": [
    {
     "data": {
      "text/plain": [
       "1"
      ]
     },
     "execution_count": 31,
     "metadata": {},
     "output_type": "execute_result"
    }
   ],
   "source": [
    "n_ground = 0\n",
    "for line in lines:\n",
    "    for word in line:\n",
    "        if word == \"ground\":\n",
    "            n_ground += 1\n",
    "\n",
    "n_ground"
   ]
  },
  {
   "cell_type": "code",
   "execution_count": 32,
   "metadata": {},
   "outputs": [
    {
     "data": {
      "text/plain": [
       "2"
      ]
     },
     "execution_count": 32,
     "metadata": {},
     "output_type": "execute_result"
    }
   ],
   "source": [
    "n_Jove = 0\n",
    "for line in lines:\n",
    "    for word in line:\n",
    "        if word == \"Jove\":\n",
    "            n_Jove += 1\n",
    "\n",
    "n_Jove"
   ]
  },
  {
   "cell_type": "code",
   "execution_count": 33,
   "metadata": {},
   "outputs": [
    {
     "data": {
      "text/plain": [
       "1"
      ]
     },
     "execution_count": 33,
     "metadata": {},
     "output_type": "execute_result"
    }
   ],
   "source": [
    "n_restore = 0\n",
    "for line in lines:\n",
    "    for word in line:\n",
    "        if word == \"restore\":\n",
    "            n_restore += 1\n",
    "\n",
    "n_restore"
   ]
  },
  {
   "cell_type": "code",
   "execution_count": 34,
   "metadata": {},
   "outputs": [
    {
     "data": {
      "text/plain": [
       "1"
      ]
     },
     "execution_count": 34,
     "metadata": {},
     "output_type": "execute_result"
    }
   ],
   "source": [
    "n_you = 0\n",
    "for line in lines:\n",
    "    for word in line:\n",
    "        if word == \"you\":\n",
    "            n_you += 1\n",
    "\n",
    "n_you"
   ]
  },
  {
   "cell_type": "code",
   "execution_count": 35,
   "metadata": {},
   "outputs": [
    {
     "data": {
      "text/plain": [
       "1"
      ]
     },
     "execution_count": 35,
     "metadata": {},
     "output_type": "execute_result"
    }
   ],
   "source": [
    "n_when = 0\n",
    "for line in lines:\n",
    "    for word in line:\n",
    "        if word == \"when\":\n",
    "            n_when += 1\n",
    "\n",
    "n_when"
   ]
  },
  {
   "cell_type": "code",
   "execution_count": 36,
   "metadata": {},
   "outputs": [
    {
     "data": {
      "text/plain": [
       "1"
      ]
     },
     "execution_count": 36,
     "metadata": {},
     "output_type": "execute_result"
    }
   ],
   "source": [
    "n_toils = 0\n",
    "for line in lines:\n",
    "    for word in line:\n",
    "        if word == \"toils\":\n",
    "            n_toils += 1\n",
    "\n",
    "n_toils"
   ]
  },
  {
   "cell_type": "code",
   "execution_count": 37,
   "metadata": {},
   "outputs": [
    {
     "data": {
      "text/plain": [
       "1"
      ]
     },
     "execution_count": 37,
     "metadata": {},
     "output_type": "execute_result"
    }
   ],
   "source": [
    "n_are = 0\n",
    "for line in lines:\n",
    "    for word in line:\n",
    "        if word == \"are\":\n",
    "            n_are += 1\n",
    "\n",
    "n_are"
   ]
  },
  {
   "cell_type": "code",
   "execution_count": 38,
   "metadata": {},
   "outputs": [
    {
     "data": {
      "text/plain": [
       "1"
      ]
     },
     "execution_count": 38,
     "metadata": {},
     "output_type": "execute_result"
    }
   ],
   "source": [
    "n_oer = 0\n",
    "for line in lines:\n",
    "    for word in line:\n",
    "        if word == \"o’er\":\n",
    "            n_oer += 1\n",
    "\n",
    "n_oer"
   ]
  },
  {
   "cell_type": "code",
   "execution_count": 47,
   "metadata": {},
   "outputs": [
    {
     "data": {
      "text/plain": [
       "1"
      ]
     },
     "execution_count": 47,
     "metadata": {},
     "output_type": "execute_result"
    }
   ],
   "source": [
    "n_safe = 0\n",
    "for line in lines:\n",
    "    for word in line:\n",
    "        if word == \"Safe\":\n",
    "            n_safe += 1\n",
    "\n",
    "n_safe"
   ]
  },
  {
   "cell_type": "code",
   "execution_count": 48,
   "metadata": {},
   "outputs": [
    {
     "data": {
      "text/plain": [
       "2"
      ]
     },
     "execution_count": 48,
     "metadata": {},
     "output_type": "execute_result"
    }
   ],
   "source": [
    "n_to = 0\n",
    "for line in lines:\n",
    "    for word in line:\n",
    "        if word == \"to\":\n",
    "            n_to += 1\n",
    "\n",
    "n_to"
   ]
  },
  {
   "cell_type": "code",
   "execution_count": 49,
   "metadata": {},
   "outputs": [
    {
     "data": {
      "text/plain": [
       "1"
      ]
     },
     "execution_count": 49,
     "metadata": {},
     "output_type": "execute_result"
    }
   ],
   "source": [
    "n_pleasures = 0\n",
    "for line in lines:\n",
    "    for word in line:\n",
    "        if word == \"pleasures\":\n",
    "            n_pleasures += 1\n",
    "\n",
    "n_pleasures"
   ]
  },
  {
   "cell_type": "code",
   "execution_count": 50,
   "metadata": {},
   "outputs": [
    {
     "data": {
      "text/plain": [
       "2"
      ]
     },
     "execution_count": 50,
     "metadata": {},
     "output_type": "execute_result"
    }
   ],
   "source": [
    "n_of = 0\n",
    "for line in lines:\n",
    "    for word in line:\n",
    "        if word == \"of\":\n",
    "            n_of += 1\n",
    "\n",
    "n_of"
   ]
  },
  {
   "cell_type": "code",
   "execution_count": 51,
   "metadata": {},
   "outputs": [
    {
     "data": {
      "text/plain": [
       "1"
      ]
     },
     "execution_count": 51,
     "metadata": {},
     "output_type": "execute_result"
    }
   ],
   "source": [
    "n_native = 0\n",
    "for line in lines:\n",
    "    for word in line:\n",
    "        if word == \"native\":\n",
    "            n_native += 1\n",
    "\n",
    "n_native"
   ]
  },
  {
   "cell_type": "code",
   "execution_count": 53,
   "metadata": {},
   "outputs": [
    {
     "data": {
      "text/plain": [
       "1"
      ]
     },
     "execution_count": 53,
     "metadata": {},
     "output_type": "execute_result"
    }
   ],
   "source": [
    "n_shore = 0\n",
    "for line in lines:\n",
    "    for word in line:\n",
    "        if word == \"shore\":\n",
    "            n_shore += 1\n",
    "\n",
    "n_shore"
   ]
  },
  {
   "cell_type": "code",
   "execution_count": 40,
   "metadata": {},
   "outputs": [
    {
     "data": {
      "text/plain": [
       "1"
      ]
     },
     "execution_count": 40,
     "metadata": {},
     "output_type": "execute_result"
    }
   ],
   "source": [
    "n_but =0\n",
    "for line in lines:\n",
    "    for word in line:\n",
    "        if word == \"But\":\n",
    "            n_but += 1\n",
    "\n",
    "n_but"
   ]
  },
  {
   "cell_type": "code",
   "execution_count": 41,
   "metadata": {},
   "outputs": [
    {
     "data": {
      "text/plain": [
       "1"
      ]
     },
     "execution_count": 41,
     "metadata": {},
     "output_type": "execute_result"
    }
   ],
   "source": [
    "n_oh = 0\n",
    "for line in lines:\n",
    "    for word in line:\n",
    "        if word == \"oh\":\n",
    "            n_oh += 1\n",
    "\n",
    "n_oh"
   ]
  },
  {
   "cell_type": "code",
   "execution_count": 42,
   "metadata": {},
   "outputs": [
    {
     "data": {
      "text/plain": [
       "1"
      ]
     },
     "execution_count": 42,
     "metadata": {},
     "output_type": "execute_result"
    }
   ],
   "source": [
    "n_relieve = 0\n",
    "for line in lines:\n",
    "    for word in line:\n",
    "        if word == \"relieve\":\n",
    "            n_relieve += 1\n",
    "\n",
    "n_relieve"
   ]
  },
  {
   "cell_type": "code",
   "execution_count": 43,
   "metadata": {},
   "outputs": [
    {
     "data": {
      "text/plain": [
       "1"
      ]
     },
     "execution_count": 43,
     "metadata": {},
     "output_type": "execute_result"
    }
   ],
   "source": [
    "n_a = 0\n",
    "for line in lines:\n",
    "    for word in line:\n",
    "        if word == \"a\":\n",
    "            n_a += 1\n",
    "\n",
    "n_a"
   ]
  },
  {
   "cell_type": "code",
   "execution_count": 44,
   "metadata": {},
   "outputs": [
    {
     "data": {
      "text/plain": [
       "1"
      ]
     },
     "execution_count": 44,
     "metadata": {},
     "output_type": "execute_result"
    }
   ],
   "source": [
    "n_wretched = 0\n",
    "for line in lines:\n",
    "    for word in line:\n",
    "        if word == \"wretched\":\n",
    "            n_wretched += 1\n",
    "\n",
    "n_wretched"
   ]
  },
  {
   "cell_type": "code",
   "execution_count": 46,
   "metadata": {},
   "outputs": [
    {
     "data": {
      "text/plain": [
       "1"
      ]
     },
     "execution_count": 46,
     "metadata": {},
     "output_type": "execute_result"
    }
   ],
   "source": [
    "n_parents = 0\n",
    "for line in lines:\n",
    "    for word in line:\n",
    "        if word == \"parent’s\":\n",
    "            n_parents += 1\n",
    "\n",
    "n_parents\n"
   ]
  },
  {
   "cell_type": "code",
   "execution_count": 45,
   "metadata": {},
   "outputs": [
    {
     "data": {
      "text/plain": [
       "1"
      ]
     },
     "execution_count": 45,
     "metadata": {},
     "output_type": "execute_result"
    }
   ],
   "source": [
    "n_pain = 0\n",
    "for line in lines:\n",
    "    for word in line:\n",
    "        if word == \"pain\":\n",
    "            n_pain += 1\n",
    "\n",
    "n_pain"
   ]
  },
  {
   "cell_type": "code",
   "execution_count": 54,
   "metadata": {},
   "outputs": [
    {
     "data": {
      "text/plain": [
       "1"
      ]
     },
     "execution_count": 54,
     "metadata": {},
     "output_type": "execute_result"
    }
   ],
   "source": [
    "n_give = 0\n",
    "for line in lines:\n",
    "    for word in line:\n",
    "        if word == \"give\":\n",
    "            n_give += 1\n",
    "\n",
    "n_give"
   ]
  },
  {
   "cell_type": "code",
   "execution_count": 58,
   "metadata": {},
   "outputs": [
    {
     "data": {
      "text/plain": [
       "1"
      ]
     },
     "execution_count": 58,
     "metadata": {},
     "output_type": "execute_result"
    }
   ],
   "source": [
    "n_Chryseïs = 0\n",
    "for line in lines:\n",
    "    for word in line:\n",
    "        if word == \"Chryseïs\":\n",
    "            n_Chryseïs += 1\n",
    "\n",
    "n_Chryseïs"
   ]
  },
  {
   "cell_type": "code",
   "execution_count": 55,
   "metadata": {},
   "outputs": [
    {
     "data": {
      "text/plain": [
       "1"
      ]
     },
     "execution_count": 55,
     "metadata": {},
     "output_type": "execute_result"
    }
   ],
   "source": [
    "n_these = 0\n",
    "for line in lines:\n",
    "    for word in line:\n",
    "        if word == \"these\":\n",
    "            n_these += 1\n",
    "\n",
    "n_these"
   ]
  },
  {
   "cell_type": "code",
   "execution_count": 56,
   "metadata": {},
   "outputs": [
    {
     "data": {
      "text/plain": [
       "1"
      ]
     },
     "execution_count": 56,
     "metadata": {},
     "output_type": "execute_result"
    }
   ],
   "source": [
    "n_arms = 0\n",
    "for line in lines:\n",
    "    for word in line:\n",
    "        if word == \"arms\":\n",
    "            n_arms += 1\n",
    "\n",
    "n_arms"
   ]
  },
  {
   "cell_type": "code",
   "execution_count": 57,
   "metadata": {},
   "outputs": [
    {
     "data": {
      "text/plain": [
       "1"
      ]
     },
     "execution_count": 57,
     "metadata": {},
     "output_type": "execute_result"
    }
   ],
   "source": [
    "n_again = 0\n",
    "for line in lines:\n",
    "    for word in line:\n",
    "        if word == \"again\":\n",
    "            n_again += 1\n",
    "\n",
    "n_again"
   ]
  },
  {
   "cell_type": "code",
   "execution_count": 59,
   "metadata": {},
   "outputs": [
    {
     "data": {
      "text/plain": [
       "1"
      ]
     },
     "execution_count": 59,
     "metadata": {},
     "output_type": "execute_result"
    }
   ],
   "source": [
    "n_if = 0\n",
    "for line in lines:\n",
    "    for word in line:\n",
    "        if word == \"If\":\n",
    "            n_if += 1\n",
    "\n",
    "n_if"
   ]
  },
  {
   "cell_type": "code",
   "execution_count": 60,
   "metadata": {},
   "outputs": [
    {
     "data": {
      "text/plain": [
       "1"
      ]
     },
     "execution_count": 60,
     "metadata": {},
     "output_type": "execute_result"
    }
   ],
   "source": [
    "n_mercy = 0\n",
    "for line in lines:\n",
    "    for word in line:\n",
    "        if word == \"mercy\":\n",
    "            n_mercy += 1\n",
    "\n",
    "n_mercy"
   ]
  },
  {
   "cell_type": "code",
   "execution_count": 61,
   "metadata": {},
   "outputs": [
    {
     "data": {
      "text/plain": [
       "1"
      ]
     },
     "execution_count": 61,
     "metadata": {},
     "output_type": "execute_result"
    }
   ],
   "source": [
    "n_yet = 0\n",
    "for line in lines:\n",
    "    for word in line:\n",
    "        if word == \"yet\":\n",
    "            n_yet += 1\n",
    "\n",
    "n_yet"
   ]
  },
  {
   "cell_type": "code",
   "execution_count": 62,
   "metadata": {},
   "outputs": [
    {
     "data": {
      "text/plain": [
       "1"
      ]
     },
     "execution_count": 62,
     "metadata": {},
     "output_type": "execute_result"
    }
   ],
   "source": [
    "n_let = 0\n",
    "for line in lines:\n",
    "    for word in line:\n",
    "        if word == \"let\":\n",
    "            n_let += 1\n",
    "\n",
    "n_let"
   ]
  },
  {
   "cell_type": "code",
   "execution_count": 63,
   "metadata": {},
   "outputs": [
    {
     "data": {
      "text/plain": [
       "1"
      ]
     },
     "execution_count": 63,
     "metadata": {},
     "output_type": "execute_result"
    }
   ],
   "source": [
    "n_my = 0\n",
    "for line in lines:\n",
    "    for word in line:\n",
    "        if word == \"my\":\n",
    "            n_my += 1\n",
    "\n",
    "n_my"
   ]
  },
  {
   "cell_type": "code",
   "execution_count": 64,
   "metadata": {},
   "outputs": [
    {
     "data": {
      "text/plain": [
       "1"
      ]
     },
     "execution_count": 64,
     "metadata": {},
     "output_type": "execute_result"
    }
   ],
   "source": [
    "n_presents = 0\n",
    "for line in lines:\n",
    "    for word in line:\n",
    "        if word == \"presents\":\n",
    "            n_presents += 1\n",
    "\n",
    "n_presents"
   ]
  },
  {
   "cell_type": "code",
   "execution_count": 65,
   "metadata": {},
   "outputs": [
    {
     "data": {
      "text/plain": [
       "1"
      ]
     },
     "execution_count": 65,
     "metadata": {},
     "output_type": "execute_result"
    }
   ],
   "source": [
    "n_move = 0\n",
    "for line in lines:\n",
    "    for word in line:\n",
    "        if word == \"move\":\n",
    "            n_move += 1\n",
    "\n",
    "n_move"
   ]
  },
  {
   "cell_type": "code",
   "execution_count": 66,
   "metadata": {},
   "outputs": [
    {
     "data": {
      "text/plain": [
       "1"
      ]
     },
     "execution_count": 66,
     "metadata": {},
     "output_type": "execute_result"
    }
   ],
   "source": [
    "n_dread = 0\n",
    "for line in lines:\n",
    "    for word in line:\n",
    "        if word == \"dread\":\n",
    "            n_dread += 1\n",
    "\n",
    "n_dread"
   ]
  },
  {
   "cell_type": "code",
   "execution_count": 67,
   "metadata": {},
   "outputs": [
    {
     "data": {
      "text/plain": [
       "1"
      ]
     },
     "execution_count": 67,
     "metadata": {},
     "output_type": "execute_result"
    }
   ],
   "source": [
    "n_avenging = 0\n",
    "for line in lines:\n",
    "    for word in line:\n",
    "        if word == \"avenging\":\n",
    "            n_avenging += 1\n",
    "\n",
    "n_avenging"
   ]
  },
  {
   "cell_type": "code",
   "execution_count": 69,
   "metadata": {},
   "outputs": [
    {
     "data": {
      "text/plain": [
       "1"
      ]
     },
     "execution_count": 69,
     "metadata": {},
     "output_type": "execute_result"
    }
   ],
   "source": [
    "n_Phœbus = 0\n",
    "for line in lines:\n",
    "    for word in line:\n",
    "        if word == \"Phœbus\":\n",
    "            n_Phœbus += 1\n",
    "\n",
    "n_Phœbus"
   ]
  },
  {
   "cell_type": "code",
   "execution_count": 68,
   "metadata": {},
   "outputs": [
    {
     "data": {
      "text/plain": [
       "1"
      ]
     },
     "execution_count": 68,
     "metadata": {},
     "output_type": "execute_result"
    }
   ],
   "source": [
    "n_son = 0\n",
    "for line in lines:\n",
    "    for word in line:\n",
    "        if word == \"son\":\n",
    "            n_son += 1\n",
    "\n",
    "n_son"
   ]
  }
 ],
 "metadata": {
  "kernelspec": {
   "display_name": "Python 3",
   "language": "python",
   "name": "python3"
  },
  "language_info": {
   "codemirror_mode": {
    "name": "ipython",
    "version": 3
   },
   "file_extension": ".py",
   "mimetype": "text/x-python",
   "name": "python",
   "nbconvert_exporter": "python",
   "pygments_lexer": "ipython3",
   "version": "3.12.1"
  }
 },
 "nbformat": 4,
 "nbformat_minor": 2
}
