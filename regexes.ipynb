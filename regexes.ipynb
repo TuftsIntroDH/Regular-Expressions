{
 "cells": [
  {
   "cell_type": "markdown",
   "metadata": {},
   "source": [
    "# Regular Expressions\n",
    "\n",
    "Like a good espresso, regular expressions require care and precision to avoid either a watery mess or bitter sludge.\n",
    "\n",
    "We will not have time to cover everything about **regexes** here, but this introduction should help you feel comfortable poking around and using them in your own code."
   ]
  },
  {
   "cell_type": "code",
   "execution_count": 1,
   "metadata": {},
   "outputs": [],
   "source": [
    "sample_text = \"\"\"\n",
    "“Ye kings and warriors! may your vows be crown’d,\n",
    "And Troy’s proud walls lie level with the ground.\n",
    "May Jove restore you when your toils are o’er\n",
    "Safe to the pleasures of your native shore.\n",
    "But, oh! relieve a wretched parent’s pain,\n",
    "And give Chryseïs to these arms again;\n",
    "If mercy fail, yet let my presents move,\n",
    "And dread avenging Phœbus, son of Jove.”\n",
    "\"\"\""
   ]
  },
  {
   "cell_type": "code",
   "execution_count": 2,
   "metadata": {},
   "outputs": [
    {
     "data": {
      "text/plain": [
       "[['Ye', 'kings', 'and', 'warriors', 'may', 'your', 'vows', 'be', 'crown’d'],\n",
       " ['And', 'Troy’s', 'proud', 'walls', 'lie', 'level', 'with', 'the', 'ground'],\n",
       " ['May', 'Jove', 'restore', 'you', 'when', 'your', 'toils', 'are', 'o’er'],\n",
       " ['Safe', 'to', 'the', 'pleasures', 'of', 'your', 'native', 'shore'],\n",
       " ['But', 'oh', 'relieve', 'a', 'wretched', 'parent’s', 'pain'],\n",
       " ['And', 'give', 'Chryseïs', 'to', 'these', 'arms', 'again'],\n",
       " ['If', 'mercy', 'fail', 'yet', 'let', 'my', 'presents', 'move'],\n",
       " ['And', 'dread', 'avenging', 'Phœbus', 'son', 'of', 'Jove']]"
      ]
     },
     "execution_count": 2,
     "metadata": {},
     "output_type": "execute_result"
    }
   ],
   "source": [
    "import re\n",
    "\n",
    "word_regex = re.compile(r\"[\\s\\.,!;”“]+\")\n",
    "\n",
    "lines = [[w for w in word_regex.split(l) if w != \"\"] for l in sample_text.strip().splitlines()]\n",
    "lines"
   ]
  },
  {
   "cell_type": "code",
   "execution_count": 3,
   "metadata": {},
   "outputs": [
    {
     "data": {
      "text/plain": [
       "1"
      ]
     },
     "execution_count": 3,
     "metadata": {},
     "output_type": "execute_result"
    }
   ],
   "source": [
    "n_ground = 0\n",
    "for line in lines:\n",
    "    for word in line:\n",
    "        if word == \"ground\":\n",
    "            n_ground += 1\n",
    "\n",
    "n_ground"
   ]
  },
  {
   "cell_type": "markdown",
   "metadata": {},
   "source": [
    "## Homework\n",
    "\n",
    "Using the code above as a guide, get the counts for _every_ word in `sample_text`."
   ]
  },
  {
   "cell_type": "code",
   "execution_count": 4,
   "metadata": {},
   "outputs": [
    {
     "name": "stdout",
     "output_type": "stream",
     "text": [
      "ye: 1\n",
      "kings: 1\n",
      "and: 4\n",
      "warriors: 1\n",
      "may: 2\n",
      "your: 3\n",
      "vows: 1\n",
      "be: 1\n",
      "crown: 1\n",
      "d: 1\n",
      "troy: 1\n",
      "s: 2\n",
      "proud: 1\n",
      "walls: 1\n",
      "lie: 1\n",
      "level: 1\n",
      "with: 1\n",
      "the: 2\n",
      "ground: 1\n",
      "jove: 2\n",
      "restore: 1\n",
      "you: 1\n",
      "when: 1\n",
      "toils: 1\n",
      "are: 1\n",
      "o: 1\n",
      "er: 1\n",
      "safe: 1\n",
      "to: 2\n",
      "pleasures: 1\n",
      "of: 2\n",
      "native: 1\n",
      "shore: 1\n",
      "but: 1\n",
      "oh: 1\n",
      "relieve: 1\n",
      "a: 1\n",
      "wretched: 1\n",
      "parent: 1\n",
      "pain: 1\n",
      "give: 1\n",
      "chryseïs: 1\n",
      "these: 1\n",
      "arms: 1\n",
      "again: 1\n",
      "if: 1\n",
      "mercy: 1\n",
      "fail: 1\n",
      "yet: 1\n",
      "let: 1\n",
      "my: 1\n",
      "presents: 1\n",
      "move: 1\n",
      "dread: 1\n",
      "avenging: 1\n",
      "phœbus: 1\n",
      "son: 1\n"
     ]
    }
   ],
   "source": [
    "from collections import defaultdict\n",
    "words = re.findall(r'\\b\\w+\\b', sample_text.lower())\n",
    "word_count = defaultdict(int)\n",
    "for word in words:\n",
    "    word_count[word] += 1\n",
    "\n",
    "for word, count in word_count.items():\n",
    "    print(f\"{word}: {count}\")"
   ]
  }
 ],
 "metadata": {
  "kernelspec": {
   "display_name": "Python 3",
   "language": "python",
   "name": "python3"
  },
  "language_info": {
   "codemirror_mode": {
    "name": "ipython",
    "version": 3
   },
   "file_extension": ".py",
   "mimetype": "text/x-python",
   "name": "python",
   "nbconvert_exporter": "python",
   "pygments_lexer": "ipython3",
   "version": "3.12.1"
  }
 },
 "nbformat": 4,
 "nbformat_minor": 2
}
