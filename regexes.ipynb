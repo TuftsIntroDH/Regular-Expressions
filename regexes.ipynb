{
 "cells": [
  {
   "cell_type": "markdown",
   "metadata": {},
   "source": [
    "# Regular Expressions\n",
    "\n",
    "Like a good espresso, regular expressions require care and precision to avoid either a watery mess or bitter sludge.\n",
    "\n",
    "We will not have time to cover everything about **regexes** here, but this introduction should help you feel comfortable poking around and using them in your own code."
   ]
  },
  {
   "cell_type": "code",
   "execution_count": 3,
   "metadata": {},
   "outputs": [],
   "source": [
    "sample_text = \"\"\"\n",
    "“Ye kings and warriors! may your vows be crown’d,\n",
    "And Troy’s proud walls lie level with the ground.\n",
    "May Jove restore you when your toils are o’er\n",
    "Safe to the pleasures of your native shore.\n",
    "But, oh! relieve a wretched parent’s pain,\n",
    "And give Chryseïs to these arms again;\n",
    "If mercy fail, yet let my presents move,\n",
    "And dread avenging Phœbus, son of Jove.”\n",
    "\"\"\""
   ]
  },
  {
   "cell_type": "code",
   "execution_count": 4,
   "metadata": {},
   "outputs": [
    {
     "name": "stdout",
     "output_type": "stream",
     "text": [
      "\n",
      "“Ye kings and warriors! may your vows be crown’d,\n",
      "And Troy’s proud walls lie level with the ground.\n",
      "May Jove restore you when your toils are o’er\n",
      "Safe to the pleasures of your native shore.\n",
      "But, oh! relieve a wretched parent’s pain,\n",
      "And give Chryseïs to these arms again;\n",
      "If mercy fail, yet let my presents move,\n",
      "And dread avenging Phœbus, son of Jove.”\n",
      "\n"
     ]
    }
   ],
   "source": [
    "print(sample_text)"
   ]
  },
  {
   "cell_type": "code",
   "execution_count": 5,
   "metadata": {},
   "outputs": [
    {
     "data": {
      "text/plain": [
       "['“Ye',\n",
       " 'kings',\n",
       " 'and',\n",
       " 'warriors!',\n",
       " 'may',\n",
       " 'your',\n",
       " 'vows',\n",
       " 'be',\n",
       " 'crown’d,',\n",
       " 'And',\n",
       " 'Troy’s',\n",
       " 'proud',\n",
       " 'walls',\n",
       " 'lie',\n",
       " 'level',\n",
       " 'with',\n",
       " 'the',\n",
       " 'ground.',\n",
       " 'May',\n",
       " 'Jove',\n",
       " 'restore',\n",
       " 'you',\n",
       " 'when',\n",
       " 'your',\n",
       " 'toils',\n",
       " 'are',\n",
       " 'o’er',\n",
       " 'Safe',\n",
       " 'to',\n",
       " 'the',\n",
       " 'pleasures',\n",
       " 'of',\n",
       " 'your',\n",
       " 'native',\n",
       " 'shore.',\n",
       " 'But,',\n",
       " 'oh!',\n",
       " 'relieve',\n",
       " 'a',\n",
       " 'wretched',\n",
       " 'parent’s',\n",
       " 'pain,',\n",
       " 'And',\n",
       " 'give',\n",
       " 'Chryseïs',\n",
       " 'to',\n",
       " 'these',\n",
       " 'arms',\n",
       " 'again;',\n",
       " 'If',\n",
       " 'mercy',\n",
       " 'fail,',\n",
       " 'yet',\n",
       " 'let',\n",
       " 'my',\n",
       " 'presents',\n",
       " 'move,',\n",
       " 'And',\n",
       " 'dread',\n",
       " 'avenging',\n",
       " 'Phœbus,',\n",
       " 'son',\n",
       " 'of',\n",
       " 'Jove.”']"
      ]
     },
     "execution_count": 5,
     "metadata": {},
     "output_type": "execute_result"
    }
   ],
   "source": [
    "sample_text.split()"
   ]
  },
  {
   "cell_type": "code",
   "execution_count": 6,
   "metadata": {},
   "outputs": [
    {
     "data": {
      "text/plain": [
       "[['“Ye', 'kings', 'and', 'warriors!', 'may', 'your', 'vows', 'be', 'crown’d,'],\n",
       " ['And', 'Troy’s', 'proud', 'walls', 'lie', 'level', 'with', 'the', 'ground.'],\n",
       " ['May', 'Jove', 'restore', 'you', 'when', 'your', 'toils', 'are', 'o’er'],\n",
       " ['Safe', 'to', 'the', 'pleasures', 'of', 'your', 'native', 'shore.'],\n",
       " ['But,', 'oh!', 'relieve', 'a', 'wretched', 'parent’s', 'pain,'],\n",
       " ['And', 'give', 'Chryseïs', 'to', 'these', 'arms', 'again;'],\n",
       " ['If', 'mercy', 'fail,', 'yet', 'let', 'my', 'presents', 'move,'],\n",
       " ['And', 'dread', 'avenging', 'Phœbus,', 'son', 'of', 'Jove.”']]"
      ]
     },
     "execution_count": 6,
     "metadata": {},
     "output_type": "execute_result"
    }
   ],
   "source": [
    "[l.split() for l in sample_text.strip().splitlines()]"
   ]
  },
  {
   "cell_type": "code",
   "execution_count": 7,
   "metadata": {},
   "outputs": [
    {
     "data": {
      "text/plain": [
       "[['“Ye', 'kings', 'and', 'warriors!', 'may', 'your', 'vows', 'be', 'crown’d,'],\n",
       " ['And', 'Troy’s', 'proud', 'walls', 'lie', 'level', 'with', 'the', 'ground.'],\n",
       " ['May', 'Jove', 'restore', 'you', 'when', 'your', 'toils', 'are', 'o’er'],\n",
       " ['Safe', 'to', 'the', 'pleasures', 'of', 'your', 'native', 'shore.'],\n",
       " ['But,', 'oh!', 'relieve', 'a', 'wretched', 'parent’s', 'pain,'],\n",
       " ['And', 'give', 'Chryseïs', 'to', 'these', 'arms', 'again;'],\n",
       " ['If', 'mercy', 'fail,', 'yet', 'let', 'my', 'presents', 'move,'],\n",
       " ['And', 'dread', 'avenging', 'Phœbus,', 'son', 'of', 'Jove.”']]"
      ]
     },
     "execution_count": 7,
     "metadata": {},
     "output_type": "execute_result"
    }
   ],
   "source": [
    "words_in_lines = []\n",
    "for line in sample_text.strip().splitlines():\n",
    "    words_in_lines.append(line.split())\n",
    "\n",
    "words_in_lines"
   ]
  },
  {
   "cell_type": "code",
   "execution_count": 8,
   "metadata": {},
   "outputs": [
    {
     "data": {
      "text/plain": [
       "['“Ye kings and warriors! may your vows be crown’d,',\n",
       " 'And Troy’s proud walls lie level with the ground.',\n",
       " 'May Jove restore you when your toils are o’er',\n",
       " 'Safe to the pleasures of your native shore.',\n",
       " 'But, oh! relieve a wretched parent’s pain,',\n",
       " 'And give Chryseïs to these arms again;',\n",
       " 'If mercy fail, yet let my presents move,',\n",
       " 'And dread avenging Phœbus, son of Jove.”']"
      ]
     },
     "execution_count": 8,
     "metadata": {},
     "output_type": "execute_result"
    }
   ],
   "source": [
    "sample_text.strip().splitlines()"
   ]
  },
  {
   "cell_type": "code",
   "execution_count": 9,
   "metadata": {},
   "outputs": [],
   "source": [
    "lines = [l.split() for l in sample_text.strip().splitlines()]"
   ]
  },
  {
   "cell_type": "code",
   "execution_count": 10,
   "metadata": {},
   "outputs": [
    {
     "data": {
      "text/plain": [
       "0"
      ]
     },
     "execution_count": 10,
     "metadata": {},
     "output_type": "execute_result"
    }
   ],
   "source": [
    "n_ground = 0 \n",
    "for line in lines:\n",
    "    for word in line: \n",
    "        if word == \"ground\":\n",
    "            n_ground += 1\n",
    "\n",
    "n_ground"
   ]
  },
  {
   "cell_type": "code",
   "execution_count": 11,
   "metadata": {},
   "outputs": [
    {
     "data": {
      "text/plain": [
       "1"
      ]
     },
     "execution_count": 11,
     "metadata": {},
     "output_type": "execute_result"
    }
   ],
   "source": [
    "n_ground = 0 \n",
    "for line in lines:\n",
    "    for word in line: \n",
    "        if word == \"ground.\":\n",
    "            n_ground += 1\n",
    "\n",
    "n_ground"
   ]
  },
  {
   "cell_type": "code",
   "execution_count": 12,
   "metadata": {},
   "outputs": [
    {
     "name": "stdout",
     "output_type": "stream",
     "text": [
      "a\n",
      "b\n",
      "c\n",
      "d\n",
      "e\n",
      "f\n",
      "g\n",
      "h\n",
      "i\n"
     ]
    }
   ],
   "source": [
    "test_list = [\"abc\", \"def\", \"ghi\"]\n",
    "\n",
    "for line in test_list:\n",
    "    for word in line:\n",
    "        print(word)"
   ]
  },
  {
   "cell_type": "code",
   "execution_count": 13,
   "metadata": {},
   "outputs": [
    {
     "name": "stdout",
     "output_type": "stream",
     "text": [
      "abc\n",
      "def\n",
      "ghi\n"
     ]
    }
   ],
   "source": [
    "for line in test_list:\n",
    "    print(line)"
   ]
  },
  {
   "cell_type": "code",
   "execution_count": 14,
   "metadata": {},
   "outputs": [
    {
     "data": {
      "text/plain": [
       "['Ye',\n",
       " 'kings',\n",
       " 'and',\n",
       " 'warriors',\n",
       " 'may',\n",
       " 'your',\n",
       " 'vows',\n",
       " 'be',\n",
       " 'crown',\n",
       " 'd',\n",
       " 'And',\n",
       " 'Troy',\n",
       " 's',\n",
       " 'proud',\n",
       " 'walls',\n",
       " 'lie',\n",
       " 'level',\n",
       " 'with',\n",
       " 'the',\n",
       " 'ground',\n",
       " 'May',\n",
       " 'Jove',\n",
       " 'restore',\n",
       " 'you',\n",
       " 'when',\n",
       " 'your',\n",
       " 'toils',\n",
       " 'are',\n",
       " 'o',\n",
       " 'er',\n",
       " 'Safe',\n",
       " 'to',\n",
       " 'the',\n",
       " 'pleasures',\n",
       " 'of',\n",
       " 'your',\n",
       " 'native',\n",
       " 'shore',\n",
       " 'But',\n",
       " 'oh',\n",
       " 'relieve',\n",
       " 'a',\n",
       " 'wretched',\n",
       " 'parent',\n",
       " 's',\n",
       " 'pain',\n",
       " 'And',\n",
       " 'give',\n",
       " 'Chryseïs',\n",
       " 'to',\n",
       " 'these',\n",
       " 'arms',\n",
       " 'again',\n",
       " 'If',\n",
       " 'mercy',\n",
       " 'fail',\n",
       " 'yet',\n",
       " 'let',\n",
       " 'my',\n",
       " 'presents',\n",
       " 'move',\n",
       " 'And',\n",
       " 'dread',\n",
       " 'avenging',\n",
       " 'Phœbus',\n",
       " 'son',\n",
       " 'of',\n",
       " 'Jove']"
      ]
     },
     "execution_count": 14,
     "metadata": {},
     "output_type": "execute_result"
    }
   ],
   "source": [
    "import re\n",
    "\n",
    "whitespace_regex = re.compile(r\"\\w+\")\n",
    "\n",
    "whitespace_regex.findall(sample_text)\n"
   ]
  },
  {
   "cell_type": "code",
   "execution_count": 15,
   "metadata": {},
   "outputs": [
    {
     "name": "stdout",
     "output_type": "stream",
     "text": [
      "['abc', 'def']\n"
     ]
    },
    {
     "data": {
      "text/plain": [
       "[['Ye', 'kings', 'and', 'warriors', 'may', 'your', 'vows', 'be', 'crown', 'd'],\n",
       " ['And',\n",
       "  'Troy',\n",
       "  's',\n",
       "  'proud',\n",
       "  'walls',\n",
       "  'lie',\n",
       "  'level',\n",
       "  'with',\n",
       "  'the',\n",
       "  'ground'],\n",
       " ['May', 'Jove', 'restore', 'you', 'when', 'your', 'toils', 'are', 'o', 'er'],\n",
       " ['Safe', 'to', 'the', 'pleasures', 'of', 'your', 'native', 'shore'],\n",
       " ['But', 'oh', 'relieve', 'a', 'wretched', 'parent', 's', 'pain'],\n",
       " ['And', 'give', 'Chryseïs', 'to', 'these', 'arms', 'again'],\n",
       " ['If', 'mercy', 'fail', 'yet', 'let', 'my', 'presents', 'move'],\n",
       " ['And', 'dread', 'avenging', 'Phœbus', 'son', 'of', 'Jove']]"
      ]
     },
     "execution_count": 15,
     "metadata": {},
     "output_type": "execute_result"
    }
   ],
   "source": [
    "import re\n",
    "\n",
    "whitespace_regex = re.compile(r\"\\w+\")\n",
    "\n",
    "print(re.split(r\"\\s+\", \"abc def\"))\n",
    "\n",
    "lines = [whitespace_regex.findall(l) for l in sample_text.strip().splitlines()]\n",
    "lines \n"
   ]
  },
  {
   "cell_type": "code",
   "execution_count": 16,
   "metadata": {},
   "outputs": [
    {
     "name": "stdout",
     "output_type": "stream",
     "text": [
      "['', ' ', '']\n"
     ]
    },
    {
     "data": {
      "text/plain": [
       "[['Ye', 'kings', 'and', 'warriors', 'may', 'your', 'vows', 'be', 'crown', 'd'],\n",
       " ['And',\n",
       "  'Troy',\n",
       "  's',\n",
       "  'proud',\n",
       "  'walls',\n",
       "  'lie',\n",
       "  'level',\n",
       "  'with',\n",
       "  'the',\n",
       "  'ground'],\n",
       " ['May', 'Jove', 'restore', 'you', 'when', 'your', 'toils', 'are', 'o', 'er'],\n",
       " ['Safe', 'to', 'the', 'pleasures', 'of', 'your', 'native', 'shore'],\n",
       " ['But', 'oh', 'relieve', 'a', 'wretched', 'parent', 's', 'pain'],\n",
       " ['And', 'give', 'Chryseïs', 'to', 'these', 'arms', 'again'],\n",
       " ['If', 'mercy', 'fail', 'yet', 'let', 'my', 'presents', 'move'],\n",
       " ['And', 'dread', 'avenging', 'Phœbus', 'son', 'of', 'Jove']]"
      ]
     },
     "execution_count": 16,
     "metadata": {},
     "output_type": "execute_result"
    }
   ],
   "source": [
    "import re\n",
    "\n",
    "whitespace_regex = re.compile(r\"\\w+\")\n",
    "\n",
    "print(re.split(r\"\\S+\", \"abc def\"))\n",
    "\n",
    "lines = [whitespace_regex.findall(l) for l in sample_text.strip().splitlines()]\n",
    "lines"
   ]
  },
  {
   "cell_type": "code",
   "execution_count": null,
   "metadata": {},
   "outputs": [],
   "source": [
    "## Homework\n",
    "\n",
    "using the code above as a guide, get the counts for _every_ word in 'sample_text'\n",
    "\n",
    "\n",
    "\n"
   ]
  },
  {
   "cell_type": "code",
   "execution_count": 17,
   "metadata": {},
   "outputs": [
    {
     "data": {
      "text/plain": [
       "1"
      ]
     },
     "execution_count": 17,
     "metadata": {},
     "output_type": "execute_result"
    }
   ],
   "source": [
    "n_ground = 0 \n",
    "for line in lines:\n",
    "    for word in line: \n",
    "        if word == \"Ye\":\n",
    "            n_ground += 1\n",
    "\n",
    "n_ground"
   ]
  },
  {
   "cell_type": "code",
   "execution_count": 18,
   "metadata": {},
   "outputs": [
    {
     "data": {
      "text/plain": [
       "1"
      ]
     },
     "execution_count": 18,
     "metadata": {},
     "output_type": "execute_result"
    }
   ],
   "source": [
    "n_ground = 0 \n",
    "for line in lines:\n",
    "    for word in line: \n",
    "        if word == \"kings\":\n",
    "            n_ground += 1\n",
    "\n",
    "n_ground"
   ]
  },
  {
   "cell_type": "code",
   "execution_count": 26,
   "metadata": {},
   "outputs": [],
   "source": [
    "words = []\n",
    "word_count = []"
   ]
  },
  {
   "cell_type": "code",
   "execution_count": 27,
   "metadata": {},
   "outputs": [
    {
     "name": "stdout",
     "output_type": "stream",
     "text": [
      "Ye: 1\n",
      "kings: 1\n",
      "and: 1\n",
      "warriors: 1\n",
      "may: 1\n",
      "your: 3\n",
      "vows: 1\n",
      "be: 1\n",
      "crown: 1\n",
      "d: 1\n",
      "And: 3\n",
      "Troy: 1\n",
      "s: 2\n",
      "proud: 1\n",
      "walls: 1\n",
      "lie: 1\n",
      "level: 1\n",
      "with: 1\n",
      "the: 2\n",
      "ground: 1\n",
      "May: 1\n",
      "Jove: 2\n",
      "restore: 1\n",
      "you: 1\n",
      "when: 1\n",
      "toils: 1\n",
      "are: 1\n",
      "o: 1\n",
      "er: 1\n",
      "Safe: 1\n",
      "to: 2\n",
      "pleasures: 1\n",
      "of: 2\n",
      "native: 1\n",
      "shore: 1\n",
      "But: 1\n",
      "oh: 1\n",
      "relieve: 1\n",
      "a: 1\n",
      "wretched: 1\n",
      "parent: 1\n",
      "pain: 1\n",
      "give: 1\n",
      "Chryseïs: 1\n",
      "these: 1\n",
      "arms: 1\n",
      "again: 1\n",
      "If: 1\n",
      "mercy: 1\n",
      "fail: 1\n",
      "yet: 1\n",
      "let: 1\n",
      "my: 1\n",
      "presents: 1\n",
      "move: 1\n",
      "dread: 1\n",
      "avenging: 1\n",
      "Phœbus: 1\n",
      "son: 1\n"
     ]
    }
   ],
   "source": [
    "for line in lines:\n",
    "    for word in line:\n",
    "        if word in words:\n",
    "            word_count[words.index(word)] += 1\n",
    "        else:\n",
    "            words.append(word)\n",
    "            word_count.append(1)\n",
    "        \n",
    "for i in range(len(words)):\n",
    "    print(f\"{words[i]}: {word_count[i]}\")"
   ]
  }
 ],
 "metadata": {
  "kernelspec": {
   "display_name": "Python 3",
   "language": "python",
   "name": "python3"
  },
  "language_info": {
   "codemirror_mode": {
    "name": "ipython",
    "version": 3
   },
   "file_extension": ".py",
   "mimetype": "text/x-python",
   "name": "python",
   "nbconvert_exporter": "python",
   "pygments_lexer": "ipython3",
   "version": "3.12.1"
  }
 },
 "nbformat": 4,
 "nbformat_minor": 2
}
